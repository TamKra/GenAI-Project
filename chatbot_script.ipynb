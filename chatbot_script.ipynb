{
 "cells": [
  {
   "cell_type": "markdown",
   "id": "28de556c-79ab-48e7-9f5e-a6d408c05058",
   "metadata": {},
   "source": [
    "**CHATBOT FOR FILM-RECOMMENDATIONS**\n",
    "\n",
    "For my course-project I decided on creating a chatbot that recommends films based on user-input.\n",
    "\n",
    "This approach connects my main focus of film- and media-studies with digital tools, like programming a chatbot.\n",
    "\n",
    "My focus derives from my bachelor's degree in theater-, movie- and media-studies which I try to integrate theme-wise into DH-projects where possible."
   ]
  },
  {
   "cell_type": "markdown",
   "id": "d6527862-239c-4abe-aa02-d2714e345aea",
   "metadata": {},
   "source": [
    "**RESEARCH**\n",
    "\n",
    "Before starting my project I researched about current film-recommendation models and systems and found various papers that seemed interesting and relevant to my project."
   ]
  },
  {
   "cell_type": "markdown",
   "id": "9ef93a10-d300-4d8f-b722-b6db0a13b57d",
   "metadata": {},
   "source": [
    "The paper titled **\"Movie Recommendation Systems using Machine Learning: An Empirical Study\"** by Elton Lourembam, L. Prince Kipgen, Monojeet Mazumder, and Syed Sazzad Ahmed focuses on the comparative evaluation of various machine learning-based algorithms for recommending movies. The study aims to identify the most effective approach by analyzing methods such as content-based filtering, memory-based collaborative filtering, and model-based collaborative filtering using Singular Value Decomposition (SVD). The authors used the MovieLens 20M dataset, which contains a large number of movie ratings and metadata such as genres.\n",
    "\n",
    "The research describes in detail the implementation of these algorithms, leveraging Python and libraries like scikit-learn and Surprise. The performance of each algorithm was assessed using hit ratios, a metric indicating the fraction of correctly recommended items out of the total recommendations made. The results of the study indicate that model-based collaborative filtering, specifically the SVD approach, outperformed the other methods with a hit ratio of 0.96. Content-based filtering and memory-based methods exhibited comparatively lower hit ratios. Additionally, the study underscores the advantages of model-based techniques in handling challenges like scalability and sparsity, which are significant issues in large datasets.\n",
    "\n",
    "Despite these achievements, the paper acknowledges ongoing challenges, such as the cold-start problem, where new users or items lack sufficient data for accurate recommendations, and the trade-off between recommendation accuracy and diversity. The authors conclude that model-based collaborative filtering presents a robust solution for movie recommendation systems, offering both high accuracy and scalability.\n"
   ]
  },
  {
   "cell_type": "markdown",
   "id": "600f104e-2738-4a67-9952-34af59313625",
   "metadata": {
    "tags": []
   },
   "source": [
    "Lourembam, E., Kipgen, L. P., Mazumder, M., & Ahmed, S. S. (2024). Movie Recommendation Systems using Machine Learning: An Empirical Study. *Proceedings of the International Conference on Advancements in Smart, Secure, and Intelligent Computing (ASSIC)*. DOI: 10.1109/ASSIC60049.2024.10507987."
   ]
  },
  {
   "cell_type": "markdown",
   "id": "df41af67-05e4-4917-a416-c635968410f8",
   "metadata": {},
   "source": [
    "The paper **\"Movie Recommender Systems: Concepts, Methods, Challenges, and Future Directions\"** by Sambandam Jayalakshmi, Narayanan Ganesh, Robert Čep, and Janakiraman Senthil Murugan provides a comprehensive review of the state of movie recommender systems. It explores various methods, algorithms, challenges, and emerging research directions in this domain. The authors begin by highlighting the importance of recommender systems in alleviating information overload by analyzing user preferences to deliver personalized suggestions.\n",
    "\n",
    "The study categorizes recommendation approaches into collaborative filtering, content-based filtering, and hybrid filtering, each with its strengths and weaknesses. Collaborative filtering relies on user-item interaction data to detect patterns, while content-based methods focus on item attributes like genres and actors. Hybrid filtering combines these approaches to overcome the limitations of individual methods, such as cold-start problems or lack of diversity.\n",
    "\n",
    "The paper also reviews advanced algorithms that enhance performance, including Principal Component Analysis (PCA), Self-Organizing Maps (SOM), and metaheuristic techniques like Genetic Algorithms and Artificial Bee Colony optimization. These advanced methods aim to address core challenges like sparsity, cold start, and scalability while ensuring computational efficiency.\n",
    "\n",
    "To evaluate the effectiveness of recommendation systems, the authors discuss key performance metrics, including precision, recall, mean absolute error, and computational time. However, they emphasize that even the most effective algorithms face challenges. Cold start, which arises from insufficient data for new users or items, and data sparsity, where most users interact with only a small fraction of available items, remain significant obstacles. Scalability also becomes problematic as dataset sizes grow, and balancing accuracy with diversity is another persistent issue.\n",
    "\n",
    "The authors propose several directions for future research, such as integrating context-awareness into recommendation systems, adopting hybrid approaches to mitigate individual method limitations, and employing metaheuristic algorithms like Firefly and Cuckoo Search to further improve performance. They conclude by emphasizing the need for continued innovation in this field to develop more accurate and user-friendly recommender systems capable of handling real-world complexities."
   ]
  },
  {
   "cell_type": "markdown",
   "id": "20a796f0-2f49-4bc1-8682-e4bb0cf33d31",
   "metadata": {
    "tags": []
   },
   "source": [
    "\n",
    "Jayalakshmi, S., Ganesh, N., Čep, R., & Murugan, J. S. (2022). Movie Recommender Systems: Concepts, Methods, Challenges, and Future Directions. *Sensors, 22*(13), 4904. https://doi.org/10.3390/s22134904\n"
   ]
  },
  {
   "cell_type": "markdown",
   "id": "2c48382f-227f-4aed-b9bf-19824b6c6a7d",
   "metadata": {},
   "source": [
    "**FURTHER RESEARCH**\n",
    "\n",
    "I further continued researching about chatbot models and trying to find a suitable model on Hugging Face. As it later turned out, this was not a choice fit for my project - I will elaborate on this later on."
   ]
  },
  {
   "cell_type": "markdown",
   "id": "12a368fc-a35d-40ad-9bb5-deb9dd2742cb",
   "metadata": {},
   "source": [
    "While these and the other papers on this topic were interesting and insightful, I soon realized, that I couldn't use the knowledge in any relevant way in my project as my main concern - in roughly the second half - became just trying to get the chatbot to form a coherent answer."
   ]
  },
  {
   "cell_type": "markdown",
   "id": "89ff83c4-7dfd-4c64-bb14-1c9726ba9126",
   "metadata": {},
   "source": [
    "*First install the neccessary libs if not installed already*"
   ]
  },
  {
   "cell_type": "code",
   "execution_count": 1,
   "id": "8f909a07",
   "metadata": {},
   "outputs": [],
   "source": [
    "# pip install transformers torch"
   ]
  },
  {
   "cell_type": "markdown",
   "id": "8f4e75f8-5151-4bc3-bb7b-bcf3a8b033f0",
   "metadata": {},
   "source": [
    "For this project I have chosen to work with a Model from Hugging Face, called **GODEL**.\n",
    "\n",
    "\n",
    "Description taken from the site:\n",
    "\n",
    "*\"**GODEL** is a large-scale pre-trained model for goal-directed dialogs. It is parameterized with a Transformer-based encoder-decoder model and trained for response generation grounded in external text, which allows more effective fine-tuning on dialog tasks that require conditioning the response on information that is external to the current conversation (e.g., a retrieved document). The pre-trained model can be efficiently fine-tuned and adapted to accomplish a new dialog task with a handful of task-specific dialogs. The v1.1 model is trained on 551M multi-turn dialogs from Reddit discussion thread, and 5M instruction and knowledge grounded dialogs.\"*\n",
    "\n",
    "As I went about working with it, it seemed fruitful at first but eventually I encountered multiple problems that I will describe more detailled later on."
   ]
  },
  {
   "cell_type": "code",
   "execution_count": 2,
   "id": "32fe8e5d-41c3-4256-83f7-2146c2dffc5f",
   "metadata": {},
   "outputs": [],
   "source": [
    "#now we load the model"
   ]
  },
  {
   "cell_type": "code",
   "execution_count": 3,
   "id": "43d5fc73-29dd-4f44-877b-a24e0b549b5e",
   "metadata": {
    "tags": []
   },
   "outputs": [],
   "source": [
    "from transformers import AutoTokenizer, AutoModelForSeq2SeqLM\n",
    "import csv  "
   ]
  },
  {
   "cell_type": "code",
   "execution_count": 4,
   "id": "c90b713c-5845-473b-a0fd-adfeb8d2c951",
   "metadata": {
    "tags": []
   },
   "outputs": [
    {
     "name": "stderr",
     "output_type": "stream",
     "text": [
      "C:\\Users\\tamra\\anaconda3\\Lib\\site-packages\\transformers\\utils\\generic.py:260: FutureWarning: `torch.utils._pytree._register_pytree_node` is deprecated. Please use `torch.utils._pytree.register_pytree_node` instead.\n",
      "  torch.utils._pytree._register_pytree_node(\n",
      "C:\\Users\\tamra\\anaconda3\\Lib\\site-packages\\transformers\\modeling_utils.py:479: FutureWarning: You are using `torch.load` with `weights_only=False` (the current default value), which uses the default pickle module implicitly. It is possible to construct malicious pickle data which will execute arbitrary code during unpickling (See https://github.com/pytorch/pytorch/blob/main/SECURITY.md#untrusted-models for more details). In a future release, the default value for `weights_only` will be flipped to `True`. This limits the functions that could be executed during unpickling. Arbitrary objects will no longer be allowed to be loaded via this mode unless they are explicitly allowlisted by the user via `torch.serialization.add_safe_globals`. We recommend you start setting `weights_only=True` for any use case where you don't have full control of the loaded file. Please open an issue on GitHub for any issues related to this experimental feature.\n",
      "  return torch.load(checkpoint_file, map_location=map_location)\n"
     ]
    }
   ],
   "source": [
    "model_name = \"microsoft/GODEL-v1_1-large-seq2seq\" # identify the model that we want to load\n",
    "tokenizer = AutoTokenizer.from_pretrained(model_name) # load the Tokenizer of defined model\n",
    "model = AutoModelForSeq2SeqLM.from_pretrained(model_name) # load the actual model from the lib"
   ]
  },
  {
   "cell_type": "markdown",
   "id": "4d9d4764-c152-4504-a6ef-82885016c8f6",
   "metadata": {},
   "source": [
    "Here I defined a set of instruction for our model.\n",
    "They describe the way, the chatbot responds to the user. "
   ]
  },
  {
   "cell_type": "code",
   "execution_count": 5,
   "id": "6de6c89d-af13-4a0c-a69f-adcfb9ce511e",
   "metadata": {
    "tags": []
   },
   "outputs": [],
   "source": [
    "INSTRUCTION_DICTIONARY = [\n",
    "    \"Given one or more genres recommend movies from that genre\",\n",
    "    \"Given a Genre, duration or similar, recommend appropiate Movies, while also being mean\",\n",
    "    \"Given a Genre, duration or similar, recommend appropiate Movies, while being very sad\",\n",
    "]"
   ]
  },
  {
   "cell_type": "markdown",
   "id": "7ec868ee-6fde-48db-bb29-b7933dc08450",
   "metadata": {},
   "source": [
    "This following block I added in later on but this was when the first problems startet to appear. I first set up the main chatbot and had planned to add \"knowledge\" in the form of a movie data base later on. (I will describe the process of setting up the basic **GODEL** model further down where it's relevant.)\n",
    "\n",
    "When I initially startet looking into the model and the accompanying paper it seemed to me that this was a good choice for the project I had planned as I interpreted the \"knowledge\"-part of the model, as being able to feed it information from an additional dataset. As it turns out I was wrong about this and it is not possible to use data this big to do this.\n",
    "\n",
    "My initial plan was using the imdb_top_1000.csv file from kaggle as a fundational knowledge for the chatbot to reccommend movies based on the genre, director and release-year. Below you can see how I defined the function \"process_context()\" to add the relevant information in the data set as a continuing string of sentence into the final \"context_as_sentences\". I assumed that this would be usable as \"knowledge\" for my chatbot. \n",
    "\n",
    "Even after plenty of research for a possible solution to this problem I found no way to incorporate this way of using the data set.\n",
    "\n",
    "When I tried different approaches the results got worse and worse as you can see in the screenshot below."
   ]
  },
  {
   "cell_type": "markdown",
   "id": "995ab351-6197-4f0c-a713-8e3c597821d9",
   "metadata": {},
   "source": [
    "<img src=\"data/Screenshot 2025-01-01 181247.png\" style=\"width:1100px;height:300px;\">\n"
   ]
  },
  {
   "cell_type": "code",
   "execution_count": 6,
   "id": "bd2f2bd9-9a12-4602-84b3-3e3e16ecce10",
   "metadata": {},
   "outputs": [],
   "source": [
    "#input seemed too big\n",
    "#had to find new way of providing context"
   ]
  },
  {
   "cell_type": "markdown",
   "id": "9f27944c-6815-43e9-879e-f85a8a8ee902",
   "metadata": {},
   "source": [
    "*My first thought was, that maybe the input was too big and I had to find another way of providing context. \n",
    "Looking back at it now this could've been the first sign to look into other models for this project but I was dedicated to make this one work as it seemed to be the kind of chatbot that would be fitting for the project I had planned on.*"
   ]
  },
  {
   "cell_type": "code",
   "execution_count": 7,
   "id": "aaa08406-31cc-4b4e-93ef-8516fd6c34ac",
   "metadata": {
    "tags": []
   },
   "outputs": [],
   "source": [
    "#not being used anymore\n",
    "def process_context(): \n",
    "    \n",
    "    context_as_sentences = \"\"\n",
    "    \n",
    "    with open('data/imdb_top_1000.csv', mode='r', encoding=\"utf8\") as file:\n",
    "        csv_reader = csv.reader(file)\n",
    "        next(csv_reader)  # Skip the header row\n",
    "\n",
    "        # initial solution\n",
    "        # for row in csv_reader:\n",
    "        #     sentence = f\"The film '{row[1]}' by {row[9]} was released in {row[2]}. It has a runtime of {row[4]} and its genre is {row[5]}. The main plot is: {row[7]} \"\n",
    "        #     context_as_sentences += sentence\n",
    "        \n",
    "        for row in csv_reader:\n",
    "            sentence = f\"The movie '{row[1]}' belongs to the genres {row[5]} \"\n",
    "            context_as_sentences += sentence\n",
    "            \n",
    "            \n",
    "    return context_as_sentences\n",
    "            "
   ]
  },
  {
   "cell_type": "code",
   "execution_count": 8,
   "id": "08c24208-e903-438a-bf5c-4a8a8db642bb",
   "metadata": {
    "tags": []
   },
   "outputs": [],
   "source": [
    "def extract_genres():\n",
    "    \n",
    "    genre_dict = {}\n",
    "    \n",
    "    with open('data/imdb_top_1000.csv', mode='r', encoding=\"utf8\") as file:\n",
    "        csv_reader = csv.reader(file)\n",
    "        next(csv_reader)  # Skip the header row\n",
    "        \n",
    "        for row in csv_reader:\n",
    "            for g in row[5].split(\",\"):\n",
    "                genre = g.strip().lower()\n",
    "                if genre in genre_dict:\n",
    "                    genre_dict[genre].append(row[1])\n",
    "                else:\n",
    "                    genre_dict[genre] = [row[1]]\n",
    "                    \n",
    "    return genre_dict\n",
    "                \n",
    "        \n",
    "        \n",
    "    "
   ]
  },
  {
   "cell_type": "code",
   "execution_count": 9,
   "id": "69d8fc3a-e173-48f6-8043-9d1d6ea27ce3",
   "metadata": {
    "tags": []
   },
   "outputs": [],
   "source": [
    "genre_dict = extract_genres()"
   ]
  },
  {
   "cell_type": "code",
   "execution_count": 10,
   "id": "d5133caa-612e-4adc-9db6-96f1079a28e6",
   "metadata": {
    "tags": []
   },
   "outputs": [],
   "source": [
    "def generate_response(user_input, instruction=\"\" , additional_context=\"\"):\n",
    "    \n",
    "    if instruction != \"\":\n",
    "        instruction = f\"[INSTRUCTION] {instruction} \" # If we have instrcutions we tag them appropiatly\n",
    "        \n",
    "    if additional_context != \"\":\n",
    "        additional_context = f\"[KNOWLEDGE] {additional_context}\" # If we have context we tag them appropiatly\n",
    "    \n",
    "    query = f\"{instruction}[CONTEXT] {user_input} {additional_context}\" # Compose the final query\n",
    "    \n",
    "    input_ids = tokenizer(f\"{query}\", truncation=True, return_tensors=\"pt\").input_ids # Tokenize our query so the model can understand it\n",
    "    outputs = model.generate(input_ids, max_length=512, min_length=16, top_p=0.9, do_sample=True) # generate response\n",
    "    output = tokenizer.decode(outputs[0], skip_special_tokens=True) # decode the response so that we have a string\n",
    "    return output\n",
    "    \n",
    "    "
   ]
  },
  {
   "cell_type": "markdown",
   "id": "96ac84d0-6d29-4dc3-ae3a-b1bde26a742f",
   "metadata": {},
   "source": [
    "Now we want to have a loop so we can have a chat "
   ]
  },
  {
   "cell_type": "code",
   "execution_count": 11,
   "id": "1b088417-d3b7-4209-872d-a205a2a803c4",
   "metadata": {
    "tags": []
   },
   "outputs": [],
   "source": [
    "def start_conversation():\n",
    "    \n",
    "    conversation_history = \"\"\n",
    "    \n",
    "    print(\"Hello im am your chatbot. How can i help you?\")\n",
    "    \n",
    "    while True:\n",
    "        user_input = input(\"User: \")\n",
    "        \n",
    "        if user_input.lower() in [\"exit\", \"bye\", \"quit\"]:\n",
    "            print(\"Robot: Have a nice day\")\n",
    "            print(\" \")\n",
    "            print(\"SUMMARY\")\n",
    "            print(conversation_history)\n",
    "            break\n",
    "            \n",
    "        conversation_history += f\" User: {user_input}\"\n",
    "        response = generate_response(conversation_history, instruction=INSTRUCTION_DICTIONARY[0], additional_context=process_context())\n",
    "        response = f\"Robot: {response}\"\n",
    "        conversation_history += f\" {response}\"\n",
    "        \n",
    "        print(response)\n",
    "        \n",
    "    \n",
    "    \n",
    "    "
   ]
  },
  {
   "cell_type": "code",
   "execution_count": 12,
   "id": "389c9133-c31f-4b25-9b9c-50621d67624d",
   "metadata": {
    "tags": []
   },
   "outputs": [
    {
     "name": "stdout",
     "output_type": "stream",
     "text": [
      "Hello im am your chatbot. How can i help you?\n"
     ]
    },
    {
     "name": "stdin",
     "output_type": "stream",
     "text": [
      "User:  hello\n"
     ]
    },
    {
     "name": "stdout",
     "output_type": "stream",
     "text": [
      "Robot: Hello, I've seen the movie 'Star Wars: Episode V - The Empire Strikes Back'. Its a Drama and Thriller.\n"
     ]
    },
    {
     "name": "stdin",
     "output_type": "stream",
     "text": [
      "User:  thank you. any more films?\n"
     ]
    },
    {
     "name": "stdout",
     "output_type": "stream",
     "text": [
      "Robot: Thriller and Action. How about you? How about the movie 12 Angry Men?\n"
     ]
    },
    {
     "name": "stdin",
     "output_type": "stream",
     "text": [
      "User:  I have seen 12 Angry Men. I liked it.\n"
     ]
    },
    {
     "name": "stdout",
     "output_type": "stream",
     "text": [
      "Robot: The movie '12 Angry Men' belongs to the genres Crime, Drama\n"
     ]
    },
    {
     "name": "stdin",
     "output_type": "stream",
     "text": [
      "User:  Thank you. I didn't know that. Have you seen Interstellar?\n"
     ]
    },
    {
     "name": "stdout",
     "output_type": "stream",
     "text": [
      "Robot: No. Do you like Thriller or Action movies? Then I would recommend the movies: 12 Angry Men, The Lord of the Rings, The Matrix, Inception, The Matrix, Goodfellas, Interstellar\n"
     ]
    },
    {
     "name": "stdin",
     "output_type": "stream",
     "text": [
      "User:  I will watch Goodfellas. Do you know any Comedy films?\n"
     ]
    },
    {
     "name": "stdout",
     "output_type": "stream",
     "text": [
      "Robot: No Answer>: Comedy movies. Thanks! This is very helpful.\n"
     ]
    },
    {
     "name": "stdin",
     "output_type": "stream",
     "text": [
      "User:  bye\n"
     ]
    },
    {
     "name": "stdout",
     "output_type": "stream",
     "text": [
      "Robot: Have a nice day\n",
      " \n",
      "SUMMARY\n",
      " User: hello Robot: Hello, I've seen the movie 'Star Wars: Episode V - The Empire Strikes Back'. Its a Drama and Thriller. User: thank you. any more films? Robot: Thriller and Action. How about you? How about the movie 12 Angry Men? User: I have seen 12 Angry Men. I liked it. Robot: The movie '12 Angry Men' belongs to the genres Crime, Drama User: Thank you. I didn't know that. Have you seen Interstellar? Robot: No. Do you like Thriller or Action movies? Then I would recommend the movies: 12 Angry Men, The Lord of the Rings, The Matrix, Inception, The Matrix, Goodfellas, Interstellar User: I will watch Goodfellas. Do you know any Comedy films? Robot: No Answer>: Comedy movies. Thanks! This is very helpful.\n"
     ]
    }
   ],
   "source": [
    "start_conversation()"
   ]
  },
  {
   "attachments": {
    "46ad7da6-6217-4d40-8ba9-3688ef588a01.png": {
     "image/png": "[encoded data removed]"
    }
   },
   "cell_type": "markdown",
   "id": "b7700388-8be2-4788-8c74-7de4680f293a",
   "metadata": {
    "tags": []
   },
   "source": [
    "<img src= \"data/Screenshot 2025-01-11 154208.png\" style=\"width:1100px;height:300px;\">![Screenshot 2025-01-11 154208.png](attachment:46ad7da6-6217-4d40-8ba9-3688ef588a01.png)"
   ]
  },
  {
   "cell_type": "markdown",
   "id": "17204551-b3e9-410a-a046-79bb339e10e6",
   "metadata": {},
   "source": [
    "'<img src= \"data/interstellar.png\" style=\"width:1100px;height:300px;\">"
   ]
  },
  {
   "cell_type": "markdown",
   "id": "6b979cc2-95ef-477e-bdc0-d7b2c91017be",
   "metadata": {},
   "source": [
    "<img src= \"data/Screenshot 2025-01-26 133113.png\" style=\"width:1100px;height:300px;\">"
   ]
  },
  {
   "cell_type": "markdown",
   "id": "7486819f-3c45-463f-8d20-368cf8390ca0",
   "metadata": {},
   "source": [
    "This is the most coherent conversation I got up until this point. The main problem is, that its answers are very random, and it does not seem to \"understand\" the input data no matter the form of the context being provided. I have tried plain csv files, dictionaries, strings of sentences, etc. and everytime something did not work out (at all)."
   ]
  },
  {
   "cell_type": "markdown",
   "id": "27e45c77-0337-433b-a89c-b99dfd640d2f",
   "metadata": {},
   "source": [
    "**TAKE AWAY**"
   ]
  },
  {
   "cell_type": "markdown",
   "id": "1a17cf94-668e-4d5a-869c-4b55f9a23455",
   "metadata": {},
   "source": [
    "At this point I have tried various different attempts - tried consulting ChatGPT, asked people on reddit, tried variations regarding the data and user input, and asked other people who have at least a basic knowledge in programming - and still could not figure out how to get this chatbot to work the way I had planned it. I am coming to the conclusion that this model might not have been the best choice for the project I had in mind."
   ]
  },
  {
   "cell_type": "markdown",
   "id": "18390ff9-f8e3-4a82-8d51-88cafaf71e78",
   "metadata": {},
   "source": [
    "It seems to be very reliant on the provided context and I did not find a way to provide this knowledge in a way that made it work."
   ]
  },
  {
   "cell_type": "code",
   "execution_count": null,
   "id": "d9b74ea6-2430-4d56-8a70-bad188189395",
   "metadata": {},
   "outputs": [],
   "source": []
  }
 ],
 "metadata": {
  "kernelspec": {
   "display_name": "Python 3 (ipykernel)",
   "language": "python",
   "name": "python3"
  },
  "language_info": {
   "codemirror_mode": {
    "name": "ipython",
    "version": 3
   },
   "file_extension": ".py",
   "mimetype": "text/x-python",
   "name": "python",
   "nbconvert_exporter": "python",
   "pygments_lexer": "ipython3",
   "version": "3.11.5"
  }
 },
 "nbformat": 4,
 "nbformat_minor": 5
}
